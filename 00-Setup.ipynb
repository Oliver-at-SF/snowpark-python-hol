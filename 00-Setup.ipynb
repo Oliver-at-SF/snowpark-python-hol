{
 "cells": [
  {
   "cell_type": "markdown",
   "metadata": {},
   "source": [
    "# Setup or Reset"
   ]
  },
  {
   "cell_type": "markdown",
   "metadata": {},
   "source": [
    "## Warning!!!!\n",
    "### Running this code will delete an existing database as specified in your creds.json file.\n",
    "\n",
    "We will start with a wrapper around Snowpark to simplify connections and the ability to choose different compute instances.  We need a way to save state through out the project too."
   ]
  },
  {
   "cell_type": "code",
   "execution_count": null,
   "metadata": {},
   "outputs": [],
   "source": [
    "state_dict = {\n",
    "    \"connection_parameters\": {\"user\": \"john\",  \n",
    "                              \"database\": \"CITIBIKEML_JOHN\",  \n",
    "                              \"schema\": \"DEMO\",  \n",
    "                              \"password\": \"\",\n",
    "                              \"account\": \"an06783.eu-central-1\",\n",
    "                              \"role\": \"DBA_CITIBIKE\",  \n",
    "    },\n",
    "    \"compute_parameters\" : {\n",
    "              \"default_warehouse\": \"XSMALL_WH\",  \n",
    "              \"task_warehouse\": \"XSMALL_WH\",  \n",
    "              \"load_warehouse\": \"LARGE_WH\",  \n",
    "              \"fe_warehouse\": \"XXLARGE_WH\",  \n",
    "              \"train_warehouse\": \"XXLARGE_WH\"  \n",
    "    },\n",
    "    \"download_base_url\":\"https://s3.amazonaws.com/tripdata/\",\n",
    "    \"load_table_name\":\"RAW_\",\n",
    "    \"trips_table_name\":\"TRIPS\",\n",
    "    \"load_stage_name\":\"LOAD_STAGE\",\n",
    "    \"model_stage_name\":\"MODEL_STAGE\",\n",
    "    \"model_id\": \"\",\n",
    "    \"key_pair_name\":\"\", \n",
    "    \"public_key\":\"\"\n",
    "}"
   ]
  },
  {
   "cell_type": "code",
   "execution_count": null,
   "metadata": {},
   "outputs": [],
   "source": [
    "import json\n",
    "with open('./include/state.json', 'w') as sdf:\n",
    "    json.dump(state_dict, sdf)"
   ]
  },
  {
   "cell_type": "markdown",
   "metadata": {},
   "source": [
    "We will connect with username and password initially to create a ssh keypair which we will use going forward."
   ]
  },
  {
   "cell_type": "code",
   "execution_count": null,
   "metadata": {},
   "outputs": [],
   "source": [
    "import snowflake.snowpark as snp\n",
    "import os, json, uuid\n",
    "import getpass\n",
    "\n",
    "with open('./include/state.json') as sdf:\n",
    "    state_dict = json.load(sdf)    \n",
    "state_dict['model_id'] = str(uuid.uuid1()).replace('-', '_')\n",
    "state_dict['connection_parameters']['password'] = getpass.getpass()\n",
    "\n",
    "session = snp.Session.builder.configs(state_dict[\"connection_parameters\"]).create()"
   ]
  },
  {
   "cell_type": "markdown",
   "metadata": {},
   "source": [
    "If you do not currently have these users and roles created you can use something like the following to create them."
   ]
  },
  {
   "cell_type": "code",
   "execution_count": null,
   "metadata": {},
   "outputs": [],
   "source": [
    "sql_cmd='''use role securityadmin;\n",
    "\n",
    "    -- create role\n",
    "    create role dba_citibike;\n",
    "    grant role sysadmin to role dba_citibike;\n",
    "\n",
    "    use role securityadmin;\n",
    "\n",
    "    -- create user\n",
    "    CREATE USER john PASSWORD = 'snow2022' LOGIN_NAME = 'john' DEFAULT_ROLE = \"DBA_CITIBIKE\" MUST_CHANGE_PASSWORD = TRUE;\n",
    "    GRANT ROLE \"DBA_CITIBIKE\" TO USER john;\n",
    "\n",
    "    use role sysadmin;'''\n",
    "#session.sql(sql_cmd).collect()"
   ]
  },
  {
   "cell_type": "markdown",
   "metadata": {},
   "source": [
    "Likewise for compute warehouses the following code example can create them automatically"
   ]
  },
  {
   "cell_type": "code",
   "execution_count": null,
   "metadata": {},
   "outputs": [],
   "source": [
    "# for wh in state_dict['compute_parameters'].values():\n",
    "#     print(\"Creating warehouse \"+wh)\n",
    "#     session.sql(\"CREATE WAREHOUSE IF NOT EXISTS \"+wh+\\\n",
    "#             \" WITH WAREHOUSE_SIZE = '\"+wh.split('_')[0]+\\\n",
    "#             \"' WAREHOUSE_TYPE = 'STANDARD' AUTO_SUSPEND = 300 AUTO_RESUME = TRUE initially_suspended = true;\")\\\n",
    "#         .collect()\n",
    "    \n",
    "#     #session.sql(\"GRANT OWNERSHIP ON WAREHOUSE \"+wh+\" TO ROLE DBA_CITBIKE\").collect() \n",
    "\n"
   ]
  },
  {
   "cell_type": "markdown",
   "metadata": {},
   "source": [
    "Create the database and schema for this project."
   ]
  },
  {
   "cell_type": "code",
   "execution_count": null,
   "metadata": {},
   "outputs": [],
   "source": [
    "_ = session.sql('CREATE OR REPLACE DATABASE '+state_dict['connection_parameters']['database']).collect()\n",
    "_ = session.sql('CREATE SCHEMA '+state_dict['connection_parameters']['schema']).collect() "
   ]
  },
  {
   "cell_type": "markdown",
   "metadata": {},
   "source": [
    "Quick test of changing compute types"
   ]
  },
  {
   "cell_type": "code",
   "execution_count": null,
   "metadata": {},
   "outputs": [],
   "source": [
    "session.get_current_warehouse()"
   ]
  },
  {
   "cell_type": "code",
   "execution_count": null,
   "metadata": {},
   "outputs": [],
   "source": [
    "session.use_warehouse(state_dict['compute_parameters']['load_warehouse'])"
   ]
  },
  {
   "cell_type": "code",
   "execution_count": null,
   "metadata": {},
   "outputs": [],
   "source": [
    "session.get_current_warehouse()"
   ]
  },
  {
   "cell_type": "code",
   "execution_count": null,
   "metadata": {},
   "outputs": [],
   "source": [
    "session.close()"
   ]
  },
  {
   "cell_type": "markdown",
   "metadata": {},
   "source": [
    "Save the updated state dictionary for project team use."
   ]
  },
  {
   "cell_type": "code",
   "execution_count": null,
   "metadata": {},
   "outputs": [],
   "source": [
    "import json\n",
    "with open('./include/state.json', 'w') as sdf:\n",
    "    json.dump(state_dict, sdf)"
   ]
  },
  {
   "cell_type": "markdown",
   "metadata": {},
   "source": [
    " We add a python function to simplify starting a session.  We will add a new dictionary of compute resources available to our DE and ML Ops pipeline. "
   ]
  },
  {
   "cell_type": "code",
   "execution_count": null,
   "metadata": {},
   "outputs": [],
   "source": [
    "%%writefile dags/snowpark_connection.py\n",
    "\n",
    "def snowpark_connect(state_file='./include/state.json'):\n",
    "    import snowflake.snowpark as snp\n",
    "    import os, json, uuid\n",
    "    \n",
    "    with open(state_file) as sdf:\n",
    "        state_dict = json.load(sdf)    \n",
    "    state_dict[\"model_id\"] = str(uuid.uuid1()).replace('-', '_')\n",
    "    \n",
    "    session=None\n",
    "    session = snp.Session.builder.configs(state_dict[\"connection_parameters\"]).create()\n",
    "    session.use_warehouse(state_dict['compute_parameters']['default_warehouse'])\n",
    "    return session, state_dict"
   ]
  },
  {
   "cell_type": "markdown",
   "metadata": {},
   "source": [
    "Test the function that users will use."
   ]
  },
  {
   "cell_type": "code",
   "execution_count": null,
   "metadata": {},
   "outputs": [],
   "source": [
    "from dags.snowpark_connection import snowpark_connect\n",
    "session, state_dict = snowpark_connect()"
   ]
  },
  {
   "cell_type": "code",
   "execution_count": null,
   "metadata": {
    "scrolled": true
   },
   "outputs": [],
   "source": [
    "session.close()"
   ]
  },
  {
   "cell_type": "code",
   "execution_count": null,
   "metadata": {},
   "outputs": [],
   "source": []
  }
 ],
 "metadata": {
  "authors": [
   {
    "name": "cforbe"
   }
  ],
  "kernelspec": {
   "display_name": "Python 3 (ipykernel)",
   "language": "python",
   "name": "python3"
  },
  "language_info": {
   "codemirror_mode": {
    "name": "ipython",
    "version": 3
   },
   "file_extension": ".py",
   "mimetype": "text/x-python",
   "name": "python",
   "nbconvert_exporter": "python",
   "pygments_lexer": "ipython3",
   "version": "3.8.12"
  },
  "msauthor": "trbye"
 },
 "nbformat": 4,
 "nbformat_minor": 4
}
